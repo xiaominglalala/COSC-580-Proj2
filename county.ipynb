{
 "cells": [
  {
   "cell_type": "code",
   "execution_count": 3,
   "id": "71617ad7",
   "metadata": {},
   "outputs": [],
   "source": [
    "import pandas as pd\n",
    "import csv"
   ]
  },
  {
   "cell_type": "code",
   "execution_count": 8,
   "id": "8e522a7b",
   "metadata": {},
   "outputs": [],
   "source": [
    "df_svi = pd.read_csv(\"./covid19_vaccinations_equity.csv\")\n",
    "df_metro = pd.read_csv(\"./covid19_vaccinations_equity_Metro.csv\")\n",
    "# pd_urban= pd.read_csv(\"./covid19_vaccinations_equity_Urban.csv\")"
   ]
  },
  {
   "cell_type": "code",
   "execution_count": 18,
   "id": "d0ab6f39",
   "metadata": {},
   "outputs": [],
   "source": [
    "# df_fully_vaccinated = pd.DataFrame(columns=['State_Code','Per_Fully_Vaccinated'])\n",
    "# df_county = pd.DataFrame(columns=['County_Index','State_Code','SVI','Metro'])\n",
    "df_county = pd.DataFrame(columns=['State_Code','SVI','Metro'])\n",
    "df_county.State_Code = df_svi.State\n",
    "df_county.SVI=df_svi.SVI\n",
    "df_county.Metro = df_metro['Metro status']\n",
    "df_county = df_county.rename_axis('County_Index').reset_index()\n",
    "df_county.County_Index = df_county.County_Index+1"
   ]
  },
  {
   "cell_type": "code",
   "execution_count": 19,
   "id": "566e97fd",
   "metadata": {},
   "outputs": [
    {
     "data": {
      "text/html": [
       "<div>\n",
       "<style scoped>\n",
       "    .dataframe tbody tr th:only-of-type {\n",
       "        vertical-align: middle;\n",
       "    }\n",
       "\n",
       "    .dataframe tbody tr th {\n",
       "        vertical-align: top;\n",
       "    }\n",
       "\n",
       "    .dataframe thead th {\n",
       "        text-align: right;\n",
       "    }\n",
       "</style>\n",
       "<table border=\"1\" class=\"dataframe\">\n",
       "  <thead>\n",
       "    <tr style=\"text-align: right;\">\n",
       "      <th></th>\n",
       "      <th>County_Index</th>\n",
       "      <th>State_Code</th>\n",
       "      <th>SVI</th>\n",
       "      <th>Metro</th>\n",
       "    </tr>\n",
       "  </thead>\n",
       "  <tbody>\n",
       "    <tr>\n",
       "      <th>0</th>\n",
       "      <td>1</td>\n",
       "      <td>AL</td>\n",
       "      <td>Low-Mod</td>\n",
       "      <td>Metro</td>\n",
       "    </tr>\n",
       "    <tr>\n",
       "      <th>1</th>\n",
       "      <td>2</td>\n",
       "      <td>AL</td>\n",
       "      <td>Low</td>\n",
       "      <td>Metro</td>\n",
       "    </tr>\n",
       "    <tr>\n",
       "      <th>2</th>\n",
       "      <td>3</td>\n",
       "      <td>AL</td>\n",
       "      <td>High</td>\n",
       "      <td>Non-metro</td>\n",
       "    </tr>\n",
       "    <tr>\n",
       "      <th>3</th>\n",
       "      <td>4</td>\n",
       "      <td>AL</td>\n",
       "      <td>Mod-High</td>\n",
       "      <td>Metro</td>\n",
       "    </tr>\n",
       "    <tr>\n",
       "      <th>4</th>\n",
       "      <td>5</td>\n",
       "      <td>AL</td>\n",
       "      <td>Low-Mod</td>\n",
       "      <td>Metro</td>\n",
       "    </tr>\n",
       "    <tr>\n",
       "      <th>...</th>\n",
       "      <td>...</td>\n",
       "      <td>...</td>\n",
       "      <td>...</td>\n",
       "      <td>...</td>\n",
       "    </tr>\n",
       "    <tr>\n",
       "      <th>3217</th>\n",
       "      <td>3218</td>\n",
       "      <td>WY</td>\n",
       "      <td>Low-Mod</td>\n",
       "      <td>Non-metro</td>\n",
       "    </tr>\n",
       "    <tr>\n",
       "      <th>3218</th>\n",
       "      <td>3219</td>\n",
       "      <td>WY</td>\n",
       "      <td>Low</td>\n",
       "      <td>Non-metro</td>\n",
       "    </tr>\n",
       "    <tr>\n",
       "      <th>3219</th>\n",
       "      <td>3220</td>\n",
       "      <td>WY</td>\n",
       "      <td>Low-Mod</td>\n",
       "      <td>Non-metro</td>\n",
       "    </tr>\n",
       "    <tr>\n",
       "      <th>3220</th>\n",
       "      <td>3221</td>\n",
       "      <td>WY</td>\n",
       "      <td>Low-Mod</td>\n",
       "      <td>Non-metro</td>\n",
       "    </tr>\n",
       "    <tr>\n",
       "      <th>3221</th>\n",
       "      <td>3222</td>\n",
       "      <td>WY</td>\n",
       "      <td>Low-Mod</td>\n",
       "      <td>Non-metro</td>\n",
       "    </tr>\n",
       "  </tbody>\n",
       "</table>\n",
       "<p>3222 rows × 4 columns</p>\n",
       "</div>"
      ],
      "text/plain": [
       "      County_Index State_Code       SVI      Metro\n",
       "0                1        AL    Low-Mod      Metro\n",
       "1                2        AL        Low      Metro\n",
       "2                3        AL       High  Non-metro\n",
       "3                4        AL   Mod-High      Metro\n",
       "4                5        AL    Low-Mod      Metro\n",
       "...            ...        ...       ...        ...\n",
       "3217          3218        WY    Low-Mod  Non-metro\n",
       "3218          3219        WY        Low  Non-metro\n",
       "3219          3220        WY    Low-Mod  Non-metro\n",
       "3220          3221        WY    Low-Mod  Non-metro\n",
       "3221          3222        WY    Low-Mod  Non-metro\n",
       "\n",
       "[3222 rows x 4 columns]"
      ]
     },
     "execution_count": 19,
     "metadata": {},
     "output_type": "execute_result"
    }
   ],
   "source": [
    "df_county"
   ]
  },
  {
   "cell_type": "code",
   "execution_count": 20,
   "id": "a7d90659",
   "metadata": {},
   "outputs": [],
   "source": [
    "df_county.to_csv('county_table.csv', encoding='utf-8', index=False)"
   ]
  },
  {
   "cell_type": "code",
   "execution_count": null,
   "id": "8185a8e1",
   "metadata": {},
   "outputs": [],
   "source": []
  }
 ],
 "metadata": {
  "kernelspec": {
   "display_name": "Python 3 (ipykernel)",
   "language": "python",
   "name": "python3"
  },
  "language_info": {
   "codemirror_mode": {
    "name": "ipython",
    "version": 3
   },
   "file_extension": ".py",
   "mimetype": "text/x-python",
   "name": "python",
   "nbconvert_exporter": "python",
   "pygments_lexer": "ipython3",
   "version": "3.9.7"
  }
 },
 "nbformat": 4,
 "nbformat_minor": 5
}
