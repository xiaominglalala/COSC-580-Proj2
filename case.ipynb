{
 "cells": [
  {
   "cell_type": "code",
   "execution_count": 4,
   "id": "4e2c3097",
   "metadata": {},
   "outputs": [],
   "source": [
    "import pandas as pd"
   ]
  },
  {
   "cell_type": "code",
   "execution_count": 34,
   "id": "8ff957b8",
   "metadata": {},
   "outputs": [],
   "source": [
    "df_covid = pd.read_csv(\"./united_states_covid19_cases_deaths_and_testing_by_state.csv\")\n",
    "df_state = pd.read_csv(\"./states.csv\")"
   ]
  },
  {
   "cell_type": "code",
   "execution_count": 41,
   "id": "5e39db9d",
   "metadata": {},
   "outputs": [
    {
     "data": {
      "text/plain": [
       "['State/Territory',\n",
       " 'Total Cases',\n",
       " 'Confirmed Cases',\n",
       " 'Probable Cases',\n",
       " 'Cases in Last 7 Days',\n",
       " 'Case Rate per 100000',\n",
       " 'Total Deaths',\n",
       " 'Confirmed Deaths',\n",
       " 'Probable Deaths',\n",
       " 'Deaths in Last 7 Days',\n",
       " 'Death Rate per 100000',\n",
       " '7-Day Cases Rate per 100000',\n",
       " '7-Day Death Rate per 100000',\n",
       " 'Total % Positive',\n",
       " '% Positive Last 30 Days',\n",
       " '% Positive Last 7 Days',\n",
       " '# Tests per 100K',\n",
       " 'Total # Tests',\n",
       " '# Tests per 100K Last 7 Days',\n",
       " 'Total # Tests Last 7 Days',\n",
       " '# Tests per 100K Last 30 Days',\n",
       " 'Total # Tests Last 30 Days',\n",
       " 'New Cases',\n",
       " 'New Deaths']"
      ]
     },
     "execution_count": 41,
     "metadata": {},
     "output_type": "execute_result"
    }
   ],
   "source": [
    "for index, row in df_covid.iterrows():\n",
    "    if row['State/Territory'] not in list(df_state.State):\n",
    "        print(row['State/Territory'])\n",
    "        df_covid = df_covid.drop(index)\n",
    "\n",
    "df_covid = df_covid.reset_index()\n",
    "df_covid = df_covid.drop(labels='index',axis=1)\n",
    "df_covid = df_covid.fillna(-1)\n",
    "df_covid.columns.values.tolist()\n"
   ]
  },
  {
   "cell_type": "code",
   "execution_count": 43,
   "id": "c8564ece",
   "metadata": {},
   "outputs": [
    {
     "name": "stdout",
     "output_type": "stream",
     "text": [
      "  State/Territory  Total Cases  Confirmed Cases  Probable Cases  \\\n",
      "0         Alabama    1289005.0         928122.0        360883.0   \n",
      "1          Alaska     234865.0              0.0             0.0   \n",
      "2         Arizona    1987318.0        1758963.0        228355.0   \n",
      "3        Arkansas     824988.0              0.0             0.0   \n",
      "4      California    9015587.0        8422875.0        592712.0   \n",
      "\n",
      "   Cases in Last 7 Days  Case Rate per 100000  Total Deaths  Confirmed Deaths  \\\n",
      "0                3191.0               26289.0       18832.0           14478.0   \n",
      "1                2633.0               32105.0        1168.0              -1.0   \n",
      "2                6549.0               27303.0       28090.0           23883.0   \n",
      "3                3271.0               27337.0       10836.0              -1.0   \n",
      "4               34310.0               22817.0       86185.0              -1.0   \n",
      "\n",
      "   Probable Deaths  Deaths in Last 7 Days  ...  % Positive Last 30 Days  \\\n",
      "0           4354.0                   70.0  ...                 10-14.9%   \n",
      "1             -1.0                   10.0  ...                 15-19.9%   \n",
      "2           4207.0                  382.0  ...                 10-14.9%   \n",
      "3             -1.0                  175.0  ...                   8-9.9%   \n",
      "4             -1.0                 1058.0  ...                   3-4.9%   \n",
      "\n",
      "   % Positive Last 7 Days  # Tests per 100K Total # Tests  \\\n",
      "0                  3-4.9%     148795.375099     7323012.0   \n",
      "1                  5-7.9%     563768.022780     4122035.0   \n",
      "2                  3-4.9%     192032.110918    14251473.0   \n",
      "3                  3-4.9%     151796.390193     4600223.0   \n",
      "4                    < 3%     319914.053208   125944014.0   \n",
      "\n",
      "  # Tests per 100K Last 7 Days Total # Tests Last 7 Days  \\\n",
      "0                       935.26                   46029.0   \n",
      "1                       551.04                    4029.0   \n",
      "2                      1241.30                   92122.0   \n",
      "3                       805.31                   24405.0   \n",
      "4                      3084.36                 1214254.0   \n",
      "\n",
      "   # Tests per 100K Last 30 Days  Total # Tests Last 30 Days  New Cases  \\\n",
      "0                        4475.90                    220283.0      545.0   \n",
      "1                        8670.08                     63392.0        0.0   \n",
      "2                        6403.10                    475200.0        0.0   \n",
      "3                        3956.98                    119917.0      519.0   \n",
      "4                       19336.85                   7612545.0     8579.0   \n",
      "\n",
      "   New Deaths  \n",
      "0        66.0  \n",
      "1         0.0  \n",
      "2         0.0  \n",
      "3        37.0  \n",
      "4       160.0  \n",
      "\n",
      "[5 rows x 24 columns]\n"
     ]
    }
   ],
   "source": [
    "print(df_covid.head())"
   ]
  },
  {
   "cell_type": "code",
   "execution_count": 39,
   "id": "4c83ebec",
   "metadata": {},
   "outputs": [],
   "source": [
    "df_covid.to_csv('case_table.csv', encoding='utf-8', index=False)"
   ]
  },
  {
   "cell_type": "code",
   "execution_count": null,
   "id": "52fae06b",
   "metadata": {},
   "outputs": [],
   "source": []
  }
 ],
 "metadata": {
  "kernelspec": {
   "display_name": "Python 3 (ipykernel)",
   "language": "python",
   "name": "python3"
  },
  "language_info": {
   "codemirror_mode": {
    "name": "ipython",
    "version": 3
   },
   "file_extension": ".py",
   "mimetype": "text/x-python",
   "name": "python",
   "nbconvert_exporter": "python",
   "pygments_lexer": "ipython3",
   "version": "3.9.7"
  }
 },
 "nbformat": 4,
 "nbformat_minor": 5
}
