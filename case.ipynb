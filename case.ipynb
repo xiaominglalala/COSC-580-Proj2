{
 "cells": [
  {
   "cell_type": "code",
   "execution_count": 4,
   "id": "35f3d88f",
   "metadata": {},
   "outputs": [],
   "source": [
    "import pandas as pd"
   ]
  },
  {
   "cell_type": "code",
   "execution_count": 34,
   "id": "3850416e",
   "metadata": {},
   "outputs": [],
   "source": [
    "df_covid = pd.read_csv(\"./united_states_covid19_cases_deaths_and_testing_by_state.csv\")\n",
    "df_state = pd.read_csv(\"./states.csv\")"
   ]
  },
  {
   "cell_type": "code",
   "execution_count": 44,
   "id": "56447d52",
   "metadata": {},
   "outputs": [
    {
     "data": {
      "text/plain": [
       "['State/Territory',\n",
       " 'Total Cases',\n",
       " 'Confirmed Cases',\n",
       " 'Probable Cases',\n",
       " 'Cases in Last 7 Days',\n",
       " 'Case Rate per 100000',\n",
       " 'Total Deaths',\n",
       " 'Confirmed Deaths',\n",
       " 'Probable Deaths',\n",
       " 'Deaths in Last 7 Days',\n",
       " 'Death Rate per 100000',\n",
       " '7-Day Cases Rate per 100000',\n",
       " '7-Day Death Rate per 100000',\n",
       " 'Total % Positive',\n",
       " '% Positive Last 30 Days',\n",
       " '% Positive Last 7 Days',\n",
       " '# Tests per 100K',\n",
       " 'Total # Tests',\n",
       " '# Tests per 100K Last 7 Days',\n",
       " 'Total # Tests Last 7 Days',\n",
       " '# Tests per 100K Last 30 Days',\n",
       " 'Total # Tests Last 30 Days',\n",
       " 'New Cases',\n",
       " 'New Deaths',\n",
       " 'State_Code']"
      ]
     },
     "execution_count": 44,
     "metadata": {},
     "output_type": "execute_result"
    }
   ],
   "source": [
    "for index, row in df_covid.iterrows():\n",
    "    if row['State/Territory'] not in list(df_state.State):\n",
    "        print(row['State/Territory'])\n",
    "        df_covid = df_covid.drop(index)\n",
    "\n",
    "df_covid = df_covid.reset_index()\n",
    "df_covid = df_covid.drop(labels='index',axis=1)\n",
    "df_covid = df_covid.fillna(-1)\n",
    "df_covid['State_Code'] = df_state.Code\n",
    "df_covid.columns.values.tolist()\n"
   ]
  },
  {
   "cell_type": "code",
   "execution_count": 45,
   "id": "a9fbe5f2",
   "metadata": {},
   "outputs": [
    {
     "name": "stdout",
     "output_type": "stream",
     "text": [
      "  State/Territory  Total Cases  Confirmed Cases  Probable Cases  \\\n",
      "0         Alabama    1289005.0         928122.0        360883.0   \n",
      "1          Alaska     234865.0              0.0             0.0   \n",
      "2         Arizona    1987318.0        1758963.0        228355.0   \n",
      "3        Arkansas     824988.0              0.0             0.0   \n",
      "4      California    9015587.0        8422875.0        592712.0   \n",
      "\n",
      "   Cases in Last 7 Days  Case Rate per 100000  Total Deaths  Confirmed Deaths  \\\n",
      "0                3191.0               26289.0       18832.0           14478.0   \n",
      "1                2633.0               32105.0        1168.0              -1.0   \n",
      "2                6549.0               27303.0       28090.0           23883.0   \n",
      "3                3271.0               27337.0       10836.0              -1.0   \n",
      "4               34310.0               22817.0       86185.0              -1.0   \n",
      "\n",
      "   Probable Deaths  Deaths in Last 7 Days  ...  % Positive Last 7 Days  \\\n",
      "0           4354.0                   70.0  ...                  3-4.9%   \n",
      "1             -1.0                   10.0  ...                  5-7.9%   \n",
      "2           4207.0                  382.0  ...                  3-4.9%   \n",
      "3             -1.0                  175.0  ...                  3-4.9%   \n",
      "4             -1.0                 1058.0  ...                    < 3%   \n",
      "\n",
      "   # Tests per 100K  Total # Tests # Tests per 100K Last 7 Days  \\\n",
      "0     148795.375099      7323012.0                       935.26   \n",
      "1     563768.022780      4122035.0                       551.04   \n",
      "2     192032.110918     14251473.0                      1241.30   \n",
      "3     151796.390193      4600223.0                       805.31   \n",
      "4     319914.053208    125944014.0                      3084.36   \n",
      "\n",
      "  Total # Tests Last 7 Days # Tests per 100K Last 30 Days  \\\n",
      "0                   46029.0                       4475.90   \n",
      "1                    4029.0                       8670.08   \n",
      "2                   92122.0                       6403.10   \n",
      "3                   24405.0                       3956.98   \n",
      "4                 1214254.0                      19336.85   \n",
      "\n",
      "   Total # Tests Last 30 Days  New Cases  New Deaths  State_Code  \n",
      "0                    220283.0      545.0        66.0          AL  \n",
      "1                     63392.0        0.0         0.0          AK  \n",
      "2                    475200.0        0.0         0.0          AZ  \n",
      "3                    119917.0      519.0        37.0          AR  \n",
      "4                   7612545.0     8579.0       160.0          CA  \n",
      "\n",
      "[5 rows x 25 columns]\n"
     ]
    }
   ],
   "source": [
    "print(df_covid.head())"
   ]
  },
  {
   "cell_type": "code",
   "execution_count": 46,
   "id": "749edf59",
   "metadata": {},
   "outputs": [],
   "source": [
    "df_covid.to_csv('case_table.csv', encoding='utf-8', index=False)"
   ]
  },
  {
   "cell_type": "code",
   "execution_count": null,
   "id": "d62aad59",
   "metadata": {},
   "outputs": [],
   "source": []
  }
 ],
 "metadata": {
  "kernelspec": {
   "display_name": "Python 3 (ipykernel)",
   "language": "python",
   "name": "python3"
  },
  "language_info": {
   "codemirror_mode": {
    "name": "ipython",
    "version": 3
   },
   "file_extension": ".py",
   "mimetype": "text/x-python",
   "name": "python",
   "nbconvert_exporter": "python",
   "pygments_lexer": "ipython3",
   "version": "3.9.7"
  }
 },
 "nbformat": 4,
 "nbformat_minor": 5
}
